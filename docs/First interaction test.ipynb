{
 "metadata": {
  "name": ""
 },
 "nbformat": 3,
 "nbformat_minor": 0,
 "worksheets": [
  {
   "cells": [
    {
     "cell_type": "code",
     "collapsed": false,
     "input": [
      "import sys, os, time\n",
      "import usb.core\n",
      "import usb.util"
     ],
     "language": "python",
     "metadata": {},
     "outputs": [],
     "prompt_number": 1
    },
    {
     "cell_type": "markdown",
     "metadata": {},
     "source": [
      "# First interaction with the FL593 using PyUSB\n",
      "from: http://www.digitalmihailo.com/usb-programming-with-python-on-linux-pyusb-version/"
     ]
    },
    {
     "cell_type": "code",
     "collapsed": false,
     "input": [
      "#Throw this into a module! import fl593b as ?\n",
      "\n",
      "# DEVICE CONSTANTS\n",
      "VENDOR_ID     = 0x1a45\n",
      "PRODUCT_ID    = 0x2001\n",
      "CONFIGURATION = 1\n",
      "EP_ADDR_OUT   = 0x01\n",
      "EP_PACK_OUT   = 20\n",
      "EP_ADDR_IN    = 0x82\n",
      "EP_PACK_IN    = 21\n",
      "TIMEOUT       = 100  # default timeout of read/write is 1000 ms\n",
      "\n",
      "# WEISUB protocol constants\n",
      "# end codes\n",
      "ERR_OK      = 0x00  # no error\n",
      "ERR_DEVTYPE = 0x01  # device type field incorrect\n",
      "ERR_CHANNEL = 0x02  # channel number out of range\n",
      "ERR_OPTYPE  = 0x03  # optype not supported\n",
      "ERR_NITIMPL = 0x04  # opcode not implemented\n",
      "ERR_PENDING = 0x05  # command received, but not completed [ignore data]\n",
      "ERR_BUSY    = 0x06  # device currently busy, has not performed requested op\n",
      "ERR_DATA    = 0x07  # data field content invalid for opcode\n",
      "ERR_SAFETY  = 0x08  # requested op not within safety specs of config\n",
      "ERR_CALMODE = 0x09  # requested op only available in calibration mode!\n",
      "\n",
      "# Channels\n",
      "NUM_CHAN = 2  # (0: device, 1: channel 1, 2: channel 2)\n",
      "\n",
      "# OpTypes\n",
      "TYPE_READ  = 0x01  # return OpCode quantity to host\n",
      "TYPE_WRITE = 0x02  # write OpCode  quantity to device\n",
      "TYPE_MIN   = 0x03  # return minimum of OpCode quantity to host\n",
      "TYPE_MAX   = 0x04  # return maximum of OpCode quantity to host\n",
      "\n",
      "# General OpCodes\n",
      "# r = read, w = write\n",
      "CMD_MODEL    = 0x00  # r\n",
      "CMD_SERIAL   = 0x01  # rw\n",
      "CMD_FWVER    = 0x02  # r\n",
      "CMD_DEVTYPE  = 0x03  # r\n",
      "CMD_CHANCT   = 0x04  # r\n",
      "CMD_IDENTIFY = 0x05  # rw\n",
      "CMD_SAVE     = 0x0C  # w\n",
      "CMD_RECALL   = 0x0D  # w\n",
      "CMD_PASSWD   = 0x0E  # rw\n",
      "CMD_REVERT   = 0x0F  # w\n",
      "\n",
      "# Specific OpCodes (codes > 0x10 device specific)\n",
      "# r = read, w = write, mm = min/max\n",
      "CMD_ALARM    = 0x10  # r, Alarm flags\n",
      "CMD_SETPOINT = 0x11  # rwm, Setpoint, units depend on device MODE!\n",
      "CMD_LIMIT    = 0x12  # rwm, current limit (Ampere, applies for CC, CP and analog modulation!)\n",
      "CMD_MODE     = 0x13  # rw, feedback mode\n",
      "CMD_TRACK    = 0x13  # rw, tracking configuration <- ??? what is this?\n",
      "CMD_IMON     = 0x15  # current monitor\n",
      "CMD_PMON     = 0x16  # power monitor\n",
      "CMD_ENABLE   = 0x17  # rw, output enable. Additionally requires the output enable switch\n",
      "                     # on the board to be set to EN, and the NT pin to be pulled LOW\n",
      "CMD_RPD      = 0x19  # rwm, kOhm, photodiode feedback resistor for specified channel\n",
      "CMD_CAL_ISCALE = 0xE2  # rw, current monitor calibration scaling value for selected channel\n",
      "\n",
      "# ALARM FLAGS\n",
      "ALARM_FLAG_DICT = {0: 'output',   # output status. 0: off, 1: on; equals XEN*LEN*REN\n",
      "                   1: 'XEN',      # external enable flag, 0: J102 floating or HIGH, 1: LOW\n",
      "                   2: 'LEN',      # local enable flag, 0: S100 enabled, 0: disabled\n",
      "                   3: 'REN',      # remote enable flag, enable command state\n",
      "                   4: 'MODE1',    # feedback more channel 1, 0: CC, 1: CP\n",
      "                   5: 'MODE2',    # feedback more channel 1, 0: CC, 1: CP\n",
      "                   6: 'PARA',     # parallel mode, state of track command, 0: independently\n",
      "                   7: 'IDENT',    # status identify flag, 0: inactive, 1: active\n",
      "                   8: 'WRITE',    # write to non-volatile memory in progress following SAVE\n",
      "                   9: 'CALMODE'}  # 1: device is in calibration mode, entered with PASSWD,\n",
      "                                  # and left with REVERT\n",
      "\n",
      "# DATA (data ignored for types read, min and max)\n",
      "LEN_DATA = 16    # length data field in bytes\n",
      "FLAG_OFF = 0x30  # ASCII 48, '0'\n",
      "FLAG_ON  = 0x31  # ASCII 49, '1'"
     ],
     "language": "python",
     "metadata": {},
     "outputs": [],
     "prompt_number": 2
    },
    {
     "cell_type": "code",
     "collapsed": false,
     "input": [
      "def attach_fl593(configuration=1):\n",
      "    \"\"\"bConfigurationValue: 1\"\"\"\n",
      "    dev = usb.core.find(idVendor=VENDOR_ID, idProduct=PRODUCT_ID)\n",
      "    if dev is None:\n",
      "        raise ValueError('Device not found')\n",
      "    # Not necessary, as this is not an HID?\n",
      "    try:\n",
      "        dev.detach_kernel_driver(0)\n",
      "    except: # this usually mean that kernel driver has already been dettached\n",
      "        pass\n",
      "    dev.set_configuration(configuration)\n",
      "        \n",
      "    show_descriptors(dev)\n",
      "    return dev"
     ],
     "language": "python",
     "metadata": {},
     "outputs": [],
     "prompt_number": 3
    },
    {
     "cell_type": "code",
     "collapsed": false,
     "input": [
      "def show_descriptors(device):\n",
      "    \"\"\"Output all available configurations.\n",
      "    \"\"\"\n",
      "    for cfg in device:\n",
      "        sys.stdout.write(str(cfg.bConfigurationValue) + '\\n')"
     ],
     "language": "python",
     "metadata": {},
     "outputs": [],
     "prompt_number": 4
    },
    {
     "cell_type": "code",
     "collapsed": false,
     "input": [
      "def pack_request(devtype=0x0, channel=0x0, optype=TYPE_READ, \\\n",
      "                 opcode=CMD_MODEL, data=[0x0]*LEN_DATA,packlen=EP_PACK_OUT):\n",
      "    \"\"\"Pack bytes given as arguments into a string of length 'packlen' which\n",
      "    may vary depending on the targeted endpoint.\n",
      "    \n",
      "    devtype can be ignored (there is only one device on the FL593B)\n",
      "    \"\"\"\n",
      "    packet = [devtype, channel, optype, opcode]\n",
      "    packet.extend(data)\n",
      "    \n",
      "    # add padding if data not covering full length\n",
      "    if len(packet) < packlen:\n",
      "        packet.extend([0x00]*(packlen-len(packet)))\n",
      "        \n",
      "    return ''.join([chr(c) for c in packet])"
     ],
     "language": "python",
     "metadata": {},
     "outputs": [],
     "prompt_number": 5
    },
    {
     "cell_type": "code",
     "collapsed": false,
     "input": [
      "def log_error(functionName, ret):\n",
      "    \"\"\"Log error to standard error output\n",
      "    \"\"\"\n",
      "    sys.stderr.write(functionName + (\" failed with return code %d\\n\" % ret))"
     ],
     "language": "python",
     "metadata": {},
     "outputs": [],
     "prompt_number": 6
    },
    {
     "cell_type": "code",
     "collapsed": false,
     "input": [
      "def show_command(bytes):\n",
      "    \"\"\"Logs command onto standard output.\n",
      "    \"\"\"\n",
      "    sys.stdout.write('DevType: %d\\nChannel: %d\\nOpType:  %d\\nopCode:  %d\\nData:    %s\\n'%\\\n",
      "                      (ord(bytes[0]), ord(bytes[1]), ord(bytes[2]), ord(bytes[3]), bytes[4:]))"
     ],
     "language": "python",
     "metadata": {},
     "outputs": [],
     "prompt_number": 7
    },
    {
     "cell_type": "code",
     "collapsed": false,
     "input": [
      "def show_response(bytes):\n",
      "    \"\"\"Logs response onto standard output.\n",
      "    \"\"\"\n",
      "    sys.stdout.write('DevType: %d\\nChannel: %d\\nOpType:  %d\\nopCode:  %d\\nEndCode: %d\\nData:    %s\\n'%\\\n",
      "                      (bytes[0], bytes[1], bytes[2], bytes[3], bytes[4], bytes[5:].tostring()))"
     ],
     "language": "python",
     "metadata": {},
     "outputs": [],
     "prompt_number": 8
    },
    {
     "cell_type": "code",
     "collapsed": false,
     "input": [
      "def show_alarms(bytes):\n",
      "    sys.stdout.write('\\nAlarm flag states: \\n')\n",
      "    for i in range(10):\n",
      "        sys.stdout.write('%s: %s\\n' % (ALARM_FLAG_DICT[i],\n",
      "                                      'ON' if bytes[i] == FLAG_ON else 'OFF'))"
     ],
     "language": "python",
     "metadata": {},
     "outputs": [],
     "prompt_number": 9
    },
    {
     "cell_type": "code",
     "collapsed": false,
     "input": [
      "def roundtrip(cmd_packet):\n",
      "    # Write command packet\n",
      "    try:\n",
      "        bw = ep_out.write(cmd_packet)\n",
      "        print \"\\n-> OUT %d Bytes\" % bw\n",
      "        show_command(cmd_packet)\n",
      "    except usb.USBError as error:\n",
      "        raise error\n",
      "        \n",
      "    # Read back result\n",
      "    try:\n",
      "        resp_packet = ep_in.read(EP_PACK_IN, 100)\n",
      "        print \"<- IN  %d Bytes\\n------------\" % len(resp_packet)\n",
      "        show_response(resp_packet)\n",
      "    except usb.USBError as error:\n",
      "        raise error\n",
      "    return resp_packet"
     ],
     "language": "python",
     "metadata": {},
     "outputs": [],
     "prompt_number": 10
    },
    {
     "cell_type": "markdown",
     "metadata": {},
     "source": [
      "## THE DEVICE"
     ]
    },
    {
     "cell_type": "code",
     "collapsed": false,
     "input": [
      "# USB device\n",
      "dev = attach_fl593()\n",
      "\n",
      "# configuration\n",
      "cfg = dev.get_active_configuration()\n",
      "\n",
      "# interface\n",
      "intf = cfg[(0,0)]\n",
      "\n",
      "# endpoint\n",
      "ep_out, ep_in = usb.util.find_descriptor(intf, find_all=True);\n"
     ],
     "language": "python",
     "metadata": {},
     "outputs": [
      {
       "output_type": "stream",
       "stream": "stdout",
       "text": [
        "1\n"
       ]
      }
     ],
     "prompt_number": 11
    },
    {
     "cell_type": "markdown",
     "metadata": {},
     "source": [
      "## READING\n",
      "The easy part. At least as long as everything and everyone behaves nicely."
     ]
    },
    {
     "cell_type": "code",
     "collapsed": false,
     "input": [
      "# predefine useful packets for testing...\n",
      "read_model = pack_request(optype=TYPE_READ, opcode=CMD_MODEL)\n",
      "read_fwver = pack_request(optype=TYPE_READ, opcode=CMD_FWVER)\n",
      "read_chanct = pack_request(optype=TYPE_READ, opcode=CMD_CHANCT)\n",
      "read_devtype = pack_request(optype=TYPE_READ, opcode=CMD_DEVTYPE)\n",
      "read_serial = pack_request(optype=TYPE_READ, opcode=CMD_SERIAL)\n",
      "read_enable = pack_request(optype=TYPE_READ, opcode=CMD_ENABLE)\n",
      "read_alarm = pack_request(optype=TYPE_READ, opcode=CMD_ALARM)\n",
      "\n",
      "read_imon = {1: pack_request(optype=TYPE_READ, opcode=CMD_IMON, channel=1),\n",
      "             2: pack_request(optype=TYPE_READ, opcode=CMD_IMON, channel=2)}\n",
      "read_imax = {1: pack_request(optype=TYPE_MAX, opcode=CMD_IMON, channel=1),\n",
      "             2: pack_request(optype=TYPE_MAX, opcode=CMD_IMON, channel=2)}\n",
      "read_imin = {1: pack_request(optype=TYPE_MIN, opcode=CMD_IMON, channel=1),\n",
      "             2: pack_request(optype=TYPE_MIN, opcode=CMD_IMON, channel=2)}\n",
      "\n",
      "# example:\n",
      "roundtrip(read_model)\n",
      "roundtrip(read_imon[2])"
     ],
     "language": "python",
     "metadata": {},
     "outputs": [
      {
       "output_type": "stream",
       "stream": "stdout",
       "text": [
        "\n",
        "-> OUT 20 Bytes\n",
        "DevType: 0\n",
        "Channel: 0\n",
        "OpType:  1\n",
        "opCode:  0\n",
        "Data:    \u0000\u0000\u0000\u0000\u0000\u0000\u0000\u0000\u0000\u0000\u0000\u0000\u0000\u0000\u0000\u0000\n",
        "<- IN  21 Bytes\n",
        "------------\n",
        "DevType: 0\n",
        "Channel: 0\n",
        "OpType:  1\n",
        "opCode:  0\n",
        "EndCode: 0\n",
        "Data:    FL593B\u0000\u0000\u0000\u0000\u0000\u0000\u0000\u0000\u0000\u0000\n",
        "\n",
        "-> OUT 20 Bytes\n",
        "DevType: 0\n",
        "Channel: 2\n",
        "OpType:  1\n",
        "opCode:  21\n",
        "Data:    \u0000\u0000\u0000\u0000\u0000\u0000\u0000\u0000\u0000\u0000\u0000\u0000\u0000\u0000\u0000\u0000\n",
        "<- IN  21 Bytes\n",
        "------------\n",
        "DevType: 0\n",
        "Channel: 2\n",
        "OpType:  1\n",
        "opCode:  21\n",
        "EndCode: 0\n",
        "Data:    -0.001047\u0000\u0000\u0000\u0000\u0000\u0000\u0000\n"
       ]
      },
      {
       "metadata": {},
       "output_type": "pyout",
       "prompt_number": 12,
       "text": [
        "array('B', [0, 2, 1, 21, 0, 45, 48, 46, 48, 48, 49, 48, 52, 55, 0, 0, 0, 0, 0, 0, 0])"
       ]
      }
     ],
     "prompt_number": 12
    },
    {
     "cell_type": "markdown",
     "metadata": {},
     "source": [
      "## WRITING\n",
      "Requires properly formatted data"
     ]
    },
    {
     "cell_type": "code",
     "collapsed": false,
     "input": [
      "write_enable = pack_request(optype=TYPE_WRITE, opcode=CMD_ENABLE, data=[FLAG_ON])"
     ],
     "language": "python",
     "metadata": {},
     "outputs": [],
     "prompt_number": 13
    },
    {
     "cell_type": "code",
     "collapsed": false,
     "input": [
      "roundtrip(read_enable)\n",
      "roundtrip(write_enable);"
     ],
     "language": "python",
     "metadata": {},
     "outputs": [
      {
       "output_type": "stream",
       "stream": "stdout",
       "text": [
        "\n",
        "-> OUT 20 Bytes\n",
        "DevType: 0\n",
        "Channel: 0\n",
        "OpType:  1\n",
        "opCode:  23\n",
        "Data:    \u0000\u0000\u0000\u0000\u0000\u0000\u0000\u0000\u0000\u0000\u0000\u0000\u0000\u0000\u0000\u0000\n",
        "<- IN  21 Bytes\n",
        "------------\n",
        "DevType: 0\n",
        "Channel: 0\n",
        "OpType:  1\n",
        "opCode:  23\n",
        "EndCode: 0\n",
        "Data:    1\u0000\u0000\u0000\u0000\u0000\u0000\u0000\u0000\u0000\u0000\u0000\u0000\u0000\u0000\u0000\n",
        "\n",
        "-> OUT 20 Bytes\n",
        "DevType: 0\n",
        "Channel: 0\n",
        "OpType:  2\n",
        "opCode:  23\n",
        "Data:    1\u0000\u0000\u0000\u0000\u0000\u0000\u0000\u0000\u0000\u0000\u0000\u0000\u0000\u0000\u0000\n",
        "<- IN  21 Bytes\n",
        "------------\n",
        "DevType: 0\n",
        "Channel: 0\n",
        "OpType:  2\n",
        "opCode:  23\n",
        "EndCode: 0\n",
        "Data:    1\u0000\u0000\u0000\u0000\u0000\u0000\u0000\u0000\u0000\u0000\u0000\u0000\u0000\u0000\u0000\n"
       ]
      }
     ],
     "prompt_number": 14
    },
    {
     "cell_type": "markdown",
     "metadata": {},
     "source": [
      "## ALARM FLAGS"
     ]
    },
    {
     "cell_type": "code",
     "collapsed": false,
     "input": [
      "show_alarms(roundtrip(read_alarm)[5:])"
     ],
     "language": "python",
     "metadata": {},
     "outputs": [
      {
       "output_type": "stream",
       "stream": "stdout",
       "text": [
        "\n",
        "-> OUT 20 Bytes\n",
        "DevType: 0\n",
        "Channel: 0\n",
        "OpType:  1\n",
        "opCode:  16\n",
        "Data:    \u0000\u0000\u0000\u0000\u0000\u0000\u0000\u0000\u0000\u0000\u0000\u0000\u0000\u0000\u0000\u0000\n",
        "<- IN  21 Bytes\n",
        "------------\n",
        "DevType: 0\n",
        "Channel: 0\n",
        "OpType:  1\n",
        "opCode:  16\n",
        "EndCode: 0\n",
        "Data:    0011000000\u0000\u0000\u0000\u0000\u0000\u0000\n",
        "\n",
        "Alarm flag states: \n",
        "output: OFF\n",
        "XEN: OFF\n",
        "LEN: ON\n",
        "REN: ON\n",
        "MODE1: OFF\n",
        "MODE2: OFF\n",
        "PARA: OFF\n",
        "IDENT: OFF\n",
        "WRITE: OFF\n",
        "CALMODE: OFF\n"
       ]
      }
     ],
     "prompt_number": 15
    },
    {
     "cell_type": "code",
     "collapsed": false,
     "input": [],
     "language": "python",
     "metadata": {},
     "outputs": [],
     "prompt_number": 15
    }
   ],
   "metadata": {}
  }
 ]
}